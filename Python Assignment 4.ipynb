{
 "cells": [
  {
   "cell_type": "markdown",
   "metadata": {},
   "source": [
    "### Area of a triangle"
   ]
  },
  {
   "cell_type": "code",
   "execution_count": 1,
   "metadata": {},
   "outputs": [],
   "source": [
    "class Triangle:\n",
    "    \n",
    "    def __init__(self):\n",
    "        self.a=int(input(\"a : \"))\n",
    "        self.b=int(input(\"b : \"))\n",
    "        self.c=int(input(\"c : \"))\n",
    "     \n",
    "   "
   ]
  },
  {
   "cell_type": "code",
   "execution_count": 2,
   "metadata": {},
   "outputs": [],
   "source": [
    "class Area(Triangle):\n",
    "    \n",
    "    def result(self):\n",
    "        s=(self.a+self.b+self.c)/2\n",
    "        result= (s*(s-self.a)*(s-self.b)*(s-self.c))**0.5\n",
    "        print(f\" Triangle area is : {result:.3f} sq.cm\")\n",
    "        \n",
    "    \n",
    "\n",
    "\n",
    "      "
   ]
  },
  {
   "cell_type": "code",
   "execution_count": 3,
   "metadata": {},
   "outputs": [
    {
     "name": "stdout",
     "output_type": "stream",
     "text": [
      "a : 3\n",
      "b : 4\n",
      "c : 5\n",
      " Triangle area is : 6.000 sq.cm\n"
     ]
    }
   ],
   "source": [
    "output=Area()\n",
    "output.result()"
   ]
  },
  {
   "cell_type": "markdown",
   "metadata": {},
   "source": [
    "## filter_long_words() that takes a list of words and an integer n and returns the list of words that are longer than n."
   ]
  },
  {
   "cell_type": "code",
   "execution_count": 9,
   "metadata": {},
   "outputs": [],
   "source": [
    "def long_words(list1):\n",
    "    n=int(input(\"n : \"))\n",
    "    \n",
    "    list2=[]\n",
    "    for i in list1:\n",
    "        if len(i)>n:\n",
    "            list2.append(i)\n",
    "        \n",
    "    return list2"
   ]
  },
  {
   "cell_type": "code",
   "execution_count": 10,
   "metadata": {},
   "outputs": [
    {
     "name": "stdout",
     "output_type": "stream",
     "text": [
      "n : 4\n"
     ]
    },
    {
     "data": {
      "text/plain": [
       "['sravan', 'ineuron']"
      ]
     },
     "execution_count": 10,
     "metadata": {},
     "output_type": "execute_result"
    }
   ],
   "source": [
    "long_words([\"sravan\",\"ineuron\",\"xyz\"])"
   ]
  },
  {
   "cell_type": "markdown",
   "metadata": {},
   "source": [
    "### Write a Python program using function concept that maps list of words into a list of integers representing the lengths of the corresponding words."
   ]
  },
  {
   "cell_type": "code",
   "execution_count": 15,
   "metadata": {},
   "outputs": [],
   "source": [
    "def sample_list(list1):\n",
    "    \n",
    "    list2=[]\n",
    "    for i in list1:\n",
    "        a=len(i)\n",
    "        list2.append(a)\n",
    "    return list2"
   ]
  },
  {
   "cell_type": "code",
   "execution_count": 16,
   "metadata": {},
   "outputs": [
    {
     "data": {
      "text/plain": [
       "[6, 7, 5]"
      ]
     },
     "execution_count": 16,
     "metadata": {},
     "output_type": "execute_result"
    }
   ],
   "source": [
    "sample_list([\"sravan\",\"ineuron\",\"india\"])"
   ]
  },
  {
   "cell_type": "markdown",
   "metadata": {},
   "source": [
    "### Write a Python function which takes a character (i.e. a string of length 1) and returns True if it is a vowel, False otherwise."
   ]
  },
  {
   "cell_type": "code",
   "execution_count": 27,
   "metadata": {},
   "outputs": [],
   "source": [
    "def check_vowel(char):\n",
    "    \n",
    "    \n",
    "    vowel=[\"a\",\"e\",\"i\",\"o\",\"u\"]\n",
    "    \n",
    "    if char.lower() in vowel:\n",
    "        return True\n",
    "    return False"
   ]
  },
  {
   "cell_type": "code",
   "execution_count": 29,
   "metadata": {},
   "outputs": [
    {
     "data": {
      "text/plain": [
       "True"
      ]
     },
     "execution_count": 29,
     "metadata": {},
     "output_type": "execute_result"
    }
   ],
   "source": [
    "check_vowel(\"a\")"
   ]
  },
  {
   "cell_type": "code",
   "execution_count": null,
   "metadata": {},
   "outputs": [],
   "source": []
  }
 ],
 "metadata": {
  "kernelspec": {
   "display_name": "Python 3",
   "language": "python",
   "name": "python3"
  },
  "language_info": {
   "codemirror_mode": {
    "name": "ipython",
    "version": 3
   },
   "file_extension": ".py",
   "mimetype": "text/x-python",
   "name": "python",
   "nbconvert_exporter": "python",
   "pygments_lexer": "ipython3",
   "version": "3.8.5"
  }
 },
 "nbformat": 4,
 "nbformat_minor": 4
}
